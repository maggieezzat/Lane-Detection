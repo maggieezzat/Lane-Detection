{
 "cells": [
  {
   "cell_type": "markdown",
   "metadata": {},
   "source": [
    "# Project Steps\n",
    " ## Main Steps:\n",
    "\n",
    "* Camera calibration and distortion correction.\n",
    "* Color/gradient threshold.\n",
    "* Perspective transform.\n",
    "* Detect lane lines.\n",
    "\n",
    "## Extra Step:\n",
    "* Determine the lane curvature."
   ]
  },
  {
   "cell_type": "markdown",
   "metadata": {},
   "source": [
    "# Camera Calibration  and Distortion Correction"
   ]
  },
  {
   "cell_type": "code",
   "execution_count": null,
   "metadata": {},
   "outputs": [],
   "source": []
  },
  {
   "cell_type": "markdown",
   "metadata": {},
   "source": [
    "# Gradient / Color Threshold"
   ]
  },
  {
   "cell_type": "code",
   "execution_count": null,
   "metadata": {},
   "outputs": [],
   "source": []
  },
  {
   "cell_type": "markdown",
   "metadata": {},
   "source": [
    "# Perspective Transform"
   ]
  },
  {
   "cell_type": "code",
   "execution_count": null,
   "metadata": {},
   "outputs": [],
   "source": []
  },
  {
   "cell_type": "markdown",
   "metadata": {},
   "source": [
    "# Detect Lane Lines\n",
    "\n",
    "After finishing the previous steps You now have a thresholded warped image and you're ready to map out the lane lines! There are many ways you could go about this, but here's one example of how you might do it:\n",
    "### Peaks in a Histogram and Sliding Windows\n",
    "* After applying calibration, thresholding, and a perspective transform to a road image, you should have a binary image where the lane lines stand out clearly. However, you still need to decide explicitly which pixels are part of the lines and which belong to the left line and which belong to the right line.\n",
    "* we can use the two highest peaks from our histogram as a starting point for determining where the lane lines are, and then use sliding windows moving upward in the image (further along the road) to determine where the lane lines go.\n",
    "#### steps:\n",
    "  1. split the histogram into two sides, one for each lane line.\n",
    "  2. Set up sliding windows and window hyperparameters:\n",
    "     * set a few hyperparameters related to our sliding windows, and set them up to iterate across the binary activations in the image. These hyperparameters are:\n",
    "        1. **W_Number**; number of sliding windows.\n",
    "        2. **Margin**; the width of each window.\n",
    "        3. **Minimum_pixels**; used as a threshold to recenter the next sliding window.\n",
    "        4. **Window_Height**; computed from number of pixels and image height.\n",
    "  3. Loop through each window in W_Number.\n",
    "  4. Find the boundaries of our current window. This is based on a combination of the current window's starting point      , as well as the margin you set in the hyperparameters.\n",
    "  5. Use cv2.rectangle to draw these window boundaries onto visualization image.\n",
    "  6. Now that we know the boundaries of our window, find out which activated(non zero) pixels actually fall into the window.\n",
    "  7. Append these non zero pixels to two different arrays one for the right line and the other for the left line.\n",
    "  8. If the number of pixels you found in Step **6** are greater than your hyperparameter Minimum_pixels, re-center our window based on the mean position of these pixels.\n",
    "  9. Now that we have found all our pixels belonging to each line through the sliding window method, it's time to fit a polynomial to the line."
   ]
  },
  {
   "cell_type": "code",
   "execution_count": null,
   "metadata": {},
   "outputs": [],
   "source": []
  },
  {
   "cell_type": "markdown",
   "metadata": {},
   "source": [
    "## This function is to draw back the lane on the original image\n",
    "**N.B.** Add an inverse option in the perspective function so that we can transform the image back to it's original perspective. This can be implemented by swapping **src** and **dst** in cv2.getPerspectiveTransform(src, dst) when a certain flag is set to 1."
   ]
  },
  {
   "cell_type": "code",
   "execution_count": null,
   "metadata": {},
   "outputs": [],
   "source": [
    "#draw lane\n",
    "# left_fit and right_fit generated from step 9 in lane Detection\n",
    "# bird_eye the image after thresholding and perspective transform\n",
    "# read the inverse note below in the code\n",
    "def draw_lane(img,bird_eye,left_fit,right_fit):\n",
    "    tmp_image     = np.copy(img)\n",
    "    if right_fit is None or left_fit is None:\n",
    "        return img\n",
    "    \n",
    "    zero          = np.zeros_like(bird_eye).astype(np.uint8)\n",
    "    layered_image = np.dstack((zero,zero,zero))\n",
    "    \n",
    "    ploty      = np.linspace(0, bird_eye.shape[0]-1, bird_eye.shape[0] )\n",
    "    left_fitx  = left_fit[0]*ploty**2 + left_fit[1]*ploty + left_fit[2]\n",
    "    right_fitx = right_fit[0]*ploty**2 + right_fit[1]*ploty + right_fit[2] \n",
    "    \n",
    "    #formatting the points\n",
    "    left   = np.array([np.transpose(np.vstack([right_fitx,ploty]))])\n",
    "    right  = np.array([np.flipud(np.transpose(np.vstack([left_fitx,ploty])))])\n",
    "    points = np.hstack((left,right))\n",
    "    \n",
    "    #form lane\n",
    "    cv2.fillPoly(layered_image,np.int_([points]),(0,255,0))\n",
    "    cv2.polylines(layered_image,np.int32([right]),isClosed = False,color=(255,0,0),thickness = 20)\n",
    "    cv2.polylines(layered_image,np.int32([left]),isClosed = False,color=(255,0,0),thickness = 20)\n",
    "    \n",
    "    # The inverse perspective transfom note\n",
    "    # use the inverse perspective option mentioned in the note above to transform back the layered_image\n",
    "    inversed = perspective_transform(layered_image,1)\n",
    "    \n",
    "    output   = cv2.addWeighted(tmp_image,1,inversed,0.5,0)\n",
    "    return output"
   ]
  },
  {
   "cell_type": "markdown",
   "metadata": {},
   "source": [
    "## Determine The Lane Curvature\n",
    "You're getting very close to a final result! You have a thresholded image, where you've estimated which pixels belong to the left and right lane lines, and you've fit a polynomial to those pixel positions. Next we'll compute the radius of curvature of the fit.\n",
    "\n",
    "## Curvature in Pixels\n",
    "In the last step we computed the lane line pixels using their x and y pixel positions to fit a second order polynomial curve: $$f(y) = Ay^2+By+C $$\n",
    "in this step you will compute the radius of curvature at the closest point to the vehicle.\n",
    "\n",
    "**Radius of Curvature Equation:**\n",
    "$$R\\_Curve = \\frac{[1+(\\frac{dx}{dy})^2]^{3/2}}{|\\frac{d^2x}{dy^2}|}$$\n",
    "\n",
    "$$f'(y) = \\frac{dx}{dy} = 2Ay+B$$\n",
    "\n",
    "$$f''(y) = \\frac{d^2x}{dy^2} =A$$\n",
    "\n",
    "## From Pixels to Real World\n",
    "* Great! You've now calculated the radius of curvature for our lane lines. But now we need to stop and think... We've calculated the radius of curvature based on pixel values, so the radius we are reporting is in pixel space, which is not the same as real world space. So we actually need to repeat this calculation after converting our x and y values to real world space.\n",
    "\n",
    "* This involves measuring how long and wide the section of lane is that we're projecting in our warped image. We could do this in detail by measuring out the physical lane in the field of view of the camera, but for this project, you can assume that if you're projecting a section of lane similar to the images above, the lane is about 30 meters long and 3.7 meters wide."
   ]
  },
  {
   "cell_type": "code",
   "execution_count": null,
   "metadata": {},
   "outputs": [],
   "source": []
  }
 ],
 "metadata": {
  "kernelspec": {
   "display_name": "Python 3",
   "language": "python",
   "name": "python3"
  },
  "language_info": {
   "codemirror_mode": {
    "name": "ipython",
    "version": 3
   },
   "file_extension": ".py",
   "mimetype": "text/x-python",
   "name": "python",
   "nbconvert_exporter": "python",
   "pygments_lexer": "ipython3",
   "version": "3.5.2"
  },
  "widgets": {
   "state": {},
   "version": "1.1.2"
  }
 },
 "nbformat": 4,
 "nbformat_minor": 2
}
